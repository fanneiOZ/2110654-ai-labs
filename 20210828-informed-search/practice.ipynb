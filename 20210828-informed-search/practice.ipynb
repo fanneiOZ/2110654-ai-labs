{
 "cells": [
  {
   "cell_type": "markdown",
   "source": [
    "# Informed Search Strategy\n",
    "\n",
    "- Informed search relies on **domain-specific hints about the location of goals**\n",
    "- Hint refer to **heuristic function**\n",
    "    > $$ h(n) = $$ _Estimated cost of least-cost path from state at node n to goal state_\n",
    "-\n",
    "-\n",
    "\n",
    "## Heuristics\n",
    "- Straight-line distance heuristic h<sub>SLD<\n",
    "\n",
    "## Greedy search\n",
    "$$f(n) = h(n) $$\n",
    " - Best-first search - select node with the best heuristic\n",
    " - Generate children node + heuristic\n",
    " -\n"
   ],
   "metadata": {
    "collapsed": false,
    "pycharm": {
     "name": "#%% md\n"
    }
   }
  },
  {
   "cell_type": "markdown",
   "source": [
    "### Greedy search in action\n",
    "\n",
    "![Romania with step costs in km](Screenshot from 2021-08-28 09-33-06.png \"Search example\")\n",
    "\n",
    "#### Goal\n",
    "\n",
    "> Start from Arad\n",
    "> End at Bucharest\n",
    "\n",
    "- Straight-line distance heuristic\n",
    "\n",
    "---\n",
    "#### Effective insights\n",
    "\n",
    "##### Least cost solution\n",
    "- Picked node might not be the best node\n",
    "\n",
    "##### Completeness\n",
    "- There's some case that searching might end up in loop whole\n",
    "\n",
    "##### Complexity\n",
    "- Depended on effective of heuristic function\n",
    "\n",
    "---"
   ],
   "metadata": {
    "collapsed": false,
    "pycharm": {
     "name": "#%% md\n"
    }
   }
  },
  {
   "cell_type": "markdown",
   "source": [
    "## A* search\n",
    "\n",
    "$$f(n) = g(n) + h(n)$$\n",
    "\n",
    "> $$h(n)$$ is the displacement cost from current node to target node\n",
    ">\n",
    "> $$g(n)$$ is accumulated cost from root to current node\n",
    "\n",
    "- Sub-optimal - solution which higher than least-cost solution\n",
    "- **Admissible heuristic will cause A search ** to be optimal solution - never overestimated\n",
    "- Heuristic will be admissible if and only if estimation is never higher than actual cost\n",
    "- If heuristic is admissible then solution is optimal\n",
    "- Sometime agent might discrepant because sometime suboptimal path might cost lower at some point.\n",
    "\n",
    "If n is on optimal, n' on suboptimal\n",
    "\n",
    "> $$g(G') > g(G)$$ because $$G'$$ is suboptimal\n",
    ">\n",
    "> If $$f(n) < f(G')$$ then solution is optimal\n"
   ],
   "metadata": {
    "collapsed": false
   }
  },
  {
   "cell_type": "markdown",
   "source": [
    "## Search Effectiveness\n",
    "\n",
    "| metrics           | Greedy | A* |\n",
    "| ---               | --- | --- |\n",
    "| Optimality        | No | Yes |\n",
    "| Completeness      | No | Yes\n",
    "| Time complexity   | Depended on f(n) | Depended on Admissible heuristic\n",
    "| Space complexity  | Depended on f(n) | Depended on Admissible heuristic\n",
    "\n",
    "\n",
    "## A* Completeness"
   ],
   "metadata": {
    "collapsed": false,
    "pycharm": {
     "name": "#%% md\n"
    }
   }
  },
  {
   "cell_type": "code",
   "source": [
    "from collections import deque\n",
    "\n",
    "\n",
    "def g(node):\n",
    "    return\n",
    "\n",
    "\n",
    "def h(node):\n",
    "    return\n",
    "\n",
    "\n",
    "def f_of_greedy_search(node):\n",
    "    return h(node)\n",
    "\n",
    "\n",
    "def f_of_a_star_search(node):\n",
    "    return g(node) + h(node)\n",
    "\n",
    "\n",
    "def create_node(info):\n",
    "    return info\n",
    "\n",
    "\n",
    "def generate_children(parent):\n",
    "    return parent\n",
    "\n",
    "def sort_fringe(fringe):\n",
    "    return fringe\n",
    "\n",
    "\n",
    "def search_general(initial, goal):\n",
    "    fringe = deque()\n",
    "    fringe.append(create_node(initial))\n",
    "    goal = create_node(goal)\n",
    "\n",
    "    while True:\n",
    "        if len(fringe) == 0: raise Exception()\n",
    "        current_node = fringe.popleft()\n",
    "        if current_node == goal: return current_node\n",
    "        fringe = fringe + fringe\n",
    "        fringe = sort_fringe(fringe)"
   ],
   "metadata": {
    "collapsed": false,
    "pycharm": {
     "name": "#%%\n"
    }
   },
   "execution_count": null,
   "outputs": []
  },
  {
   "cell_type": "markdown",
   "metadata": {
    "collapsed": true,
    "pycharm": {
     "name": "#%% md\n"
    }
   },
   "source": [
    "> Once fringe is empty return failure\n",
    "\n",
    "- Fringe is always in ascending order by $$f(n)$$\n"
   ]
  }
 ],
 "metadata": {
  "kernelspec": {
   "display_name": "Python 3",
   "language": "python",
   "name": "python3"
  },
  "language_info": {
   "codemirror_mode": {
    "name": "ipython",
    "version": 2
   },
   "file_extension": ".py",
   "mimetype": "text/x-python",
   "name": "python",
   "nbconvert_exporter": "python",
   "pygments_lexer": "ipython2",
   "version": "2.7.6"
  }
 },
 "nbformat": 4,
 "nbformat_minor": 0
}