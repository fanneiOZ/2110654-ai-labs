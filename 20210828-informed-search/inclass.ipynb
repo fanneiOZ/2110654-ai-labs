{
 "nbformat": 4,
 "nbformat_minor": 0,
 "metadata": {
  "colab": {
   "name": "Copy of Informed.ipynb",
   "provenance": []
  },
  "kernelspec": {
   "display_name": "Python 3",
   "language": "python",
   "name": "python3"
  }
 },
 "cells": [
  {
   "cell_type": "markdown",
   "metadata": {
    "id": "yJsyS6_pjF8v"
   },
   "source": [
    "A Star 8 Puzzles"
   ]
  },
  {
   "cell_type": "code",
   "metadata": {
    "id": "LuuXryBmP9Vr",
    "colab": {
     "base_uri": "https://localhost:8080/"
    },
    "outputId": "5a3e81a5-e181-4a86-ed88-3274b331d649"
   },
   "source": [
    "last_index = 0\n",
    "visited_node = {}\n",
    "goal_state = '8123456780'\n",
    "total_nodes = 0\n",
    "total_expanded_nodes = 0\n",
    "\n",
    "def h1(state,cost): # misplaced tile\n",
    "  count = 0\n",
    "  for i in range(1,10):\n",
    "    if state[i] == '0':\n",
    "      continue\n",
    "    if state[i] != goal_state[i]:\n",
    "      count += 1\n",
    "  return count+cost\n",
    "\n",
    "def manhattan(state,goal,ind):\n",
    "  j = goal[1:].find(state[ind+1])\n",
    "  rj = j//3\n",
    "  cj = j%3\n",
    "  ri = ind//3\n",
    "  ci = ind%3\n",
    "    # print(j,rj,cj,(i-1),ri,ci)\n",
    "  return abs(rj-ri)+abs(cj-ci)\n",
    "\n",
    "def h2(state,cost): # total Manhattan distance\n",
    "  # count = 0\n",
    "  # for i in range(1,10):\n",
    "  #   if state[i] == '0':\n",
    "  #     continue\n",
    "  #   count += manhattan(state,goal_state,i-1)\n",
    "  return 0\n",
    "\n",
    "def gen_successors(node):\n",
    "    global last_index\n",
    "    node_id,level,cost,f = node[1],node[3],node[4],node[5]\n",
    "    ret = []\n",
    "    state = node[0]\n",
    "    loc = int(state[0])\n",
    "    puzzle = state[1:]\n",
    "    if loc % 3 != 0:\n",
    "        new_state = str(loc-1) + puzzle[:loc-1] + puzzle[loc] + puzzle[loc-1] + puzzle[loc+1:]\n",
    "        ret += [(new_state,last_index+1,node[1],level+1,cost+1,h2(new_state,cost+1))]\n",
    "        last_index += 1\n",
    "        # print('L'+new_state)\n",
    "    if (loc+1) % 3 != 0:\n",
    "        new_state = str(loc+1) + puzzle[:loc] + puzzle[loc+1] + puzzle[loc] + puzzle[loc+2:]\n",
    "        ret += [(new_state,last_index+1,node[1],level+1,cost+1,h2(new_state,cost+1))]\n",
    "        last_index += 1\n",
    "        # print('R'+new_state)\n",
    "    if loc >= 3:\n",
    "        new_state = str(loc-3) + puzzle[:loc-3] + puzzle[loc] + puzzle[loc-2:loc] + puzzle[loc-3] + puzzle[loc+1:]\n",
    "        ret += [(new_state,last_index+1,node[1],level+1,cost+1,h2(new_state,cost+1))]\n",
    "        last_index += 1\n",
    "        # print('U'+new_state)\n",
    "    if loc <= 5:\n",
    "        new_state = str(loc+3) + puzzle[:loc] + puzzle[loc+3] + puzzle[loc+1:loc+3] + puzzle[loc] + puzzle[loc+4:]\n",
    "        ret += [(new_state,last_index+1,node[1],level+1,cost+1,h2(new_state,cost+1))]\n",
    "        last_index += 1\n",
    "        # print('D'+new_state)\n",
    "    return ret\n",
    "\n",
    "def is_goal(node):\n",
    "    return node[0] == '8123456780'\n",
    "\n",
    "def insert_all(node,fringe):\n",
    "    global total_nodes\n",
    "    children = gen_successors(node)\n",
    "    total_nodes += len(children)\n",
    "\n",
    "    for child in children:\n",
    "      fringe[0:0]= children\n",
    "    # print(fringe)\n",
    "\n",
    "def show_result(g, visited_node):\n",
    "    current_node = g\n",
    "    parent_index = current_node[1]\n",
    "    while True:\n",
    "        print(current_node[0][1:4])\n",
    "        print(current_node[0][4:7])\n",
    "        print(current_node[0][7:])\n",
    "        print()\n",
    "        parent_index = current_node[2]\n",
    "        if parent_index == -1:\n",
    "            break\n",
    "        current_node = visited_node[parent_index]\n",
    "\n",
    "def ids(start_node):\n",
    "    global last_index\n",
    "    global visited_node\n",
    "    global total_expanded_nodes\n",
    "\n",
    "    last_index = 0\n",
    "    fringe = [start_node]\n",
    "    # print(fringe)\n",
    "    visited_node = {}\n",
    "    while True:\n",
    "        if len(fringe) == 0:\n",
    "            print('Not Found')\n",
    "            break\n",
    "        front = fringe[0]\n",
    "        visited_node[front[1]] = front\n",
    "        fringe = fringe[1:]\n",
    "        total_expanded_nodes += 1\n",
    "        if is_goal(front):\n",
    "            show_result(front,visited_node)\n",
    "            return\n",
    "        insert_all(front,fringe)\n",
    "        print(fringe)\n",
    "\n",
    "ids(('4253108467',0,-1,0,0,0)) # (state,node_id,parent_id,depth,cost,f)\n",
    "print(total_expanded_nodes)"
   ],
   "execution_count": null,
   "outputs": [
    {
     "ename": "KeyboardInterrupt",
     "evalue": "",
     "output_type": "error",
     "traceback": [
      "\u001B[0;31m---------------------------------------------------------------------------\u001B[0m",
      "\u001B[0;31mKeyboardInterrupt\u001B[0m                         Traceback (most recent call last)",
      "\u001B[0;32m/tmp/ipykernel_19067/3243158499.py\u001B[0m in \u001B[0;36m<module>\u001B[0;34m\u001B[0m\n\u001B[1;32m    108\u001B[0m         \u001B[0mprint\u001B[0m\u001B[0;34m(\u001B[0m\u001B[0mfringe\u001B[0m\u001B[0;34m)\u001B[0m\u001B[0;34m\u001B[0m\u001B[0;34m\u001B[0m\u001B[0m\n\u001B[1;32m    109\u001B[0m \u001B[0;34m\u001B[0m\u001B[0m\n\u001B[0;32m--> 110\u001B[0;31m \u001B[0mids\u001B[0m\u001B[0;34m(\u001B[0m\u001B[0;34m(\u001B[0m\u001B[0;34m'4253108467'\u001B[0m\u001B[0;34m,\u001B[0m\u001B[0;36m0\u001B[0m\u001B[0;34m,\u001B[0m\u001B[0;34m-\u001B[0m\u001B[0;36m1\u001B[0m\u001B[0;34m,\u001B[0m\u001B[0;36m0\u001B[0m\u001B[0;34m,\u001B[0m\u001B[0;36m0\u001B[0m\u001B[0;34m,\u001B[0m\u001B[0;36m0\u001B[0m\u001B[0;34m)\u001B[0m\u001B[0;34m)\u001B[0m \u001B[0;31m# (state,node_id,parent_id,depth,cost,f)\u001B[0m\u001B[0;34m\u001B[0m\u001B[0;34m\u001B[0m\u001B[0m\n\u001B[0m\u001B[1;32m    111\u001B[0m \u001B[0mprint\u001B[0m\u001B[0;34m(\u001B[0m\u001B[0mtotal_expanded_nodes\u001B[0m\u001B[0;34m)\u001B[0m\u001B[0;34m\u001B[0m\u001B[0;34m\u001B[0m\u001B[0m\n\u001B[1;32m    112\u001B[0m \u001B[0;34m\u001B[0m\u001B[0m\n",
      "\u001B[0;32m/tmp/ipykernel_19067/3243158499.py\u001B[0m in \u001B[0;36mids\u001B[0;34m(start_node)\u001B[0m\n\u001B[1;32m    106\u001B[0m             \u001B[0;32mreturn\u001B[0m\u001B[0;34m\u001B[0m\u001B[0;34m\u001B[0m\u001B[0m\n\u001B[1;32m    107\u001B[0m         \u001B[0minsert_all\u001B[0m\u001B[0;34m(\u001B[0m\u001B[0mfront\u001B[0m\u001B[0;34m,\u001B[0m\u001B[0mfringe\u001B[0m\u001B[0;34m)\u001B[0m\u001B[0;34m\u001B[0m\u001B[0;34m\u001B[0m\u001B[0m\n\u001B[0;32m--> 108\u001B[0;31m         \u001B[0mprint\u001B[0m\u001B[0;34m(\u001B[0m\u001B[0mfringe\u001B[0m\u001B[0;34m)\u001B[0m\u001B[0;34m\u001B[0m\u001B[0;34m\u001B[0m\u001B[0m\n\u001B[0m\u001B[1;32m    109\u001B[0m \u001B[0;34m\u001B[0m\u001B[0m\n\u001B[1;32m    110\u001B[0m \u001B[0mids\u001B[0m\u001B[0;34m(\u001B[0m\u001B[0;34m(\u001B[0m\u001B[0;34m'4253108467'\u001B[0m\u001B[0;34m,\u001B[0m\u001B[0;36m0\u001B[0m\u001B[0;34m,\u001B[0m\u001B[0;34m-\u001B[0m\u001B[0;36m1\u001B[0m\u001B[0;34m,\u001B[0m\u001B[0;36m0\u001B[0m\u001B[0;34m,\u001B[0m\u001B[0;36m0\u001B[0m\u001B[0;34m,\u001B[0m\u001B[0;36m0\u001B[0m\u001B[0;34m)\u001B[0m\u001B[0;34m)\u001B[0m \u001B[0;31m# (state,node_id,parent_id,depth,cost,f)\u001B[0m\u001B[0;34m\u001B[0m\u001B[0;34m\u001B[0m\u001B[0m\n",
      "\u001B[0;32m~/.pyenv/versions/3.8.0/lib/python3.8/site-packages/ipykernel/iostream.py\u001B[0m in \u001B[0;36mwrite\u001B[0;34m(self, string)\u001B[0m\n\u001B[1;32m    517\u001B[0m             \u001B[0mis_child\u001B[0m \u001B[0;34m=\u001B[0m \u001B[0;34m(\u001B[0m\u001B[0;32mnot\u001B[0m \u001B[0mself\u001B[0m\u001B[0;34m.\u001B[0m\u001B[0m_is_master_process\u001B[0m\u001B[0;34m(\u001B[0m\u001B[0;34m)\u001B[0m\u001B[0;34m)\u001B[0m\u001B[0;34m\u001B[0m\u001B[0;34m\u001B[0m\u001B[0m\n\u001B[1;32m    518\u001B[0m             \u001B[0;31m# only touch the buffer in the IO thread to avoid races\u001B[0m\u001B[0;34m\u001B[0m\u001B[0;34m\u001B[0m\u001B[0;34m\u001B[0m\u001B[0m\n\u001B[0;32m--> 519\u001B[0;31m             \u001B[0mself\u001B[0m\u001B[0;34m.\u001B[0m\u001B[0mpub_thread\u001B[0m\u001B[0;34m.\u001B[0m\u001B[0mschedule\u001B[0m\u001B[0;34m(\u001B[0m\u001B[0;32mlambda\u001B[0m\u001B[0;34m:\u001B[0m \u001B[0mself\u001B[0m\u001B[0;34m.\u001B[0m\u001B[0m_buffer\u001B[0m\u001B[0;34m.\u001B[0m\u001B[0mwrite\u001B[0m\u001B[0;34m(\u001B[0m\u001B[0mstring\u001B[0m\u001B[0;34m)\u001B[0m\u001B[0;34m)\u001B[0m\u001B[0;34m\u001B[0m\u001B[0;34m\u001B[0m\u001B[0m\n\u001B[0m\u001B[1;32m    520\u001B[0m             \u001B[0;32mif\u001B[0m \u001B[0mis_child\u001B[0m\u001B[0;34m:\u001B[0m\u001B[0;34m\u001B[0m\u001B[0;34m\u001B[0m\u001B[0m\n\u001B[1;32m    521\u001B[0m                 \u001B[0;31m# mp.Pool cannot be trusted to flush promptly (or ever),\u001B[0m\u001B[0;34m\u001B[0m\u001B[0;34m\u001B[0m\u001B[0;34m\u001B[0m\u001B[0m\n",
      "\u001B[0;32m~/.pyenv/versions/3.8.0/lib/python3.8/site-packages/ipykernel/iostream.py\u001B[0m in \u001B[0;36mschedule\u001B[0;34m(self, f)\u001B[0m\n\u001B[1;32m    212\u001B[0m             \u001B[0mself\u001B[0m\u001B[0;34m.\u001B[0m\u001B[0m_events\u001B[0m\u001B[0;34m.\u001B[0m\u001B[0mappend\u001B[0m\u001B[0;34m(\u001B[0m\u001B[0mf\u001B[0m\u001B[0;34m)\u001B[0m\u001B[0;34m\u001B[0m\u001B[0;34m\u001B[0m\u001B[0m\n\u001B[1;32m    213\u001B[0m             \u001B[0;31m# wake event thread (message content is ignored)\u001B[0m\u001B[0;34m\u001B[0m\u001B[0;34m\u001B[0m\u001B[0;34m\u001B[0m\u001B[0m\n\u001B[0;32m--> 214\u001B[0;31m             \u001B[0mself\u001B[0m\u001B[0;34m.\u001B[0m\u001B[0m_event_pipe\u001B[0m\u001B[0;34m.\u001B[0m\u001B[0msend\u001B[0m\u001B[0;34m(\u001B[0m\u001B[0;34mb''\u001B[0m\u001B[0;34m)\u001B[0m\u001B[0;34m\u001B[0m\u001B[0;34m\u001B[0m\u001B[0m\n\u001B[0m\u001B[1;32m    215\u001B[0m         \u001B[0;32melse\u001B[0m\u001B[0;34m:\u001B[0m\u001B[0;34m\u001B[0m\u001B[0;34m\u001B[0m\u001B[0m\n\u001B[1;32m    216\u001B[0m             \u001B[0mf\u001B[0m\u001B[0;34m(\u001B[0m\u001B[0;34m)\u001B[0m\u001B[0;34m\u001B[0m\u001B[0;34m\u001B[0m\u001B[0m\n",
      "\u001B[0;32m~/.pyenv/versions/3.8.0/lib/python3.8/site-packages/zmq/sugar/socket.py\u001B[0m in \u001B[0;36msend\u001B[0;34m(self, data, flags, copy, track, routing_id, group)\u001B[0m\n\u001B[1;32m    503\u001B[0m                 )\n\u001B[1;32m    504\u001B[0m             \u001B[0mdata\u001B[0m\u001B[0;34m.\u001B[0m\u001B[0mgroup\u001B[0m \u001B[0;34m=\u001B[0m \u001B[0mgroup\u001B[0m\u001B[0;34m\u001B[0m\u001B[0;34m\u001B[0m\u001B[0m\n\u001B[0;32m--> 505\u001B[0;31m         \u001B[0;32mreturn\u001B[0m \u001B[0msuper\u001B[0m\u001B[0;34m(\u001B[0m\u001B[0mSocket\u001B[0m\u001B[0;34m,\u001B[0m \u001B[0mself\u001B[0m\u001B[0;34m)\u001B[0m\u001B[0;34m.\u001B[0m\u001B[0msend\u001B[0m\u001B[0;34m(\u001B[0m\u001B[0mdata\u001B[0m\u001B[0;34m,\u001B[0m \u001B[0mflags\u001B[0m\u001B[0;34m=\u001B[0m\u001B[0mflags\u001B[0m\u001B[0;34m,\u001B[0m \u001B[0mcopy\u001B[0m\u001B[0;34m=\u001B[0m\u001B[0mcopy\u001B[0m\u001B[0;34m,\u001B[0m \u001B[0mtrack\u001B[0m\u001B[0;34m=\u001B[0m\u001B[0mtrack\u001B[0m\u001B[0;34m)\u001B[0m\u001B[0;34m\u001B[0m\u001B[0;34m\u001B[0m\u001B[0m\n\u001B[0m\u001B[1;32m    506\u001B[0m \u001B[0;34m\u001B[0m\u001B[0m\n\u001B[1;32m    507\u001B[0m     \u001B[0;32mdef\u001B[0m \u001B[0msend_multipart\u001B[0m\u001B[0;34m(\u001B[0m\u001B[0mself\u001B[0m\u001B[0;34m,\u001B[0m \u001B[0mmsg_parts\u001B[0m\u001B[0;34m,\u001B[0m \u001B[0mflags\u001B[0m\u001B[0;34m=\u001B[0m\u001B[0;36m0\u001B[0m\u001B[0;34m,\u001B[0m \u001B[0mcopy\u001B[0m\u001B[0;34m=\u001B[0m\u001B[0;32mTrue\u001B[0m\u001B[0;34m,\u001B[0m \u001B[0mtrack\u001B[0m\u001B[0;34m=\u001B[0m\u001B[0;32mFalse\u001B[0m\u001B[0;34m,\u001B[0m \u001B[0;34m**\u001B[0m\u001B[0mkwargs\u001B[0m\u001B[0;34m)\u001B[0m\u001B[0;34m:\u001B[0m\u001B[0;34m\u001B[0m\u001B[0;34m\u001B[0m\u001B[0m\n",
      "\u001B[0;32mzmq/backend/cython/socket.pyx\u001B[0m in \u001B[0;36mzmq.backend.cython.socket.Socket.send\u001B[0;34m()\u001B[0m\n",
      "\u001B[0;32mzmq/backend/cython/socket.pyx\u001B[0m in \u001B[0;36mzmq.backend.cython.socket.Socket.send\u001B[0;34m()\u001B[0m\n",
      "\u001B[0;32mzmq/backend/cython/socket.pyx\u001B[0m in \u001B[0;36mzmq.backend.cython.socket._send_copy\u001B[0;34m()\u001B[0m\n",
      "\u001B[0;32m~/.pyenv/versions/3.8.0/lib/python3.8/site-packages/zmq/backend/cython/checkrc.pxd\u001B[0m in \u001B[0;36mzmq.backend.cython.checkrc._check_rc\u001B[0;34m()\u001B[0m\n",
      "\u001B[0;31mKeyboardInterrupt\u001B[0m: "
     ]
    }
   ]
  },
  {
   "cell_type": "code",
   "source": [
    "start_node = '4253108467'\n",
    "\n",
    "\n",
    "\n"
   ],
   "metadata": {
    "collapsed": false,
    "pycharm": {
     "name": "#%%\n"
    }
   },
   "execution_count": 6,
   "outputs": []
  },
  {
   "cell_type": "code",
   "metadata": {
    "id": "LUOmfJjvMwRK",
    "colab": {
     "base_uri": "https://localhost:8080/",
     "height": 35
    },
    "outputId": "fde61fee-8392-485a-d7a0-d512887df5a2"
   },
   "source": [
    "import random\n",
    "\n",
    "def gen_start(state,step):\n",
    "  for i in range(step):\n",
    "    loc0 = int(state[0])\n",
    "    dir = random.randint(0,3)\n",
    "    if dir == 0 and loc0 >= 3:\n",
    "      new_loc0 = loc0 - 3\n",
    "    elif dir == 1 and loc0 <= 5:\n",
    "      new_loc0 = loc0 + 3\n",
    "    elif dir == 2 and loc0%3 != 0:\n",
    "      new_loc0 = loc0 - 1\n",
    "    elif dir == 3 and (loc0+1)%3 != 0:\n",
    "      new_loc0 = loc0 + 1\n",
    "    else:\n",
    "      new_loc0 = loc0\n",
    "    newstate = list(state[1:])\n",
    "    newstate[loc0],newstate[new_loc0] = newstate[new_loc0],newstate[loc0]\n",
    "    newstate = str(new_loc0)+''.join(newstate)\n",
    "    state = newstate\n",
    "  return newstate\n",
    "\n",
    "gen_start(goal_state,50)"
   ],
   "execution_count": 7,
   "outputs": [
    {
     "data": {
      "text/plain": "'5123740586'"
     },
     "execution_count": 7,
     "metadata": {},
     "output_type": "execute_result"
    }
   ]
  }
 ]
}