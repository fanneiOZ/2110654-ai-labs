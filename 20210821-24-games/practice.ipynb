{
 "cells": [
  {
   "cell_type": "markdown",
   "metadata": {
    "collapsed": true,
    "pycharm": {
     "name": "#%% md\n"
    }
   },
   "source": [
    "# 24 - Games\n",
    "\n",
    "## 1st Design Approach\n",
    "\n",
    "### State Definition\n",
    "\n",
    "#### Sample initial state:\n",
    "Let state be the tuple of\n",
    " 1. result - int : 0\n",
    " - problem - list(int): [3,4,5,6]\n",
    " - solution - list(str) : ''"
   ]
  },
  {
   "cell_type": "code",
   "execution_count": 1,
   "outputs": [],
   "source": [
    "from collections import deque\n",
    "\n",
    "problem = [3, 4, 5, 6]\n",
    "\n",
    "state = 0, problem, []"
   ],
   "metadata": {
    "collapsed": false,
    "pycharm": {
     "name": "#%%\n"
    }
   }
  },
  {
   "cell_type": "markdown",
   "source": [],
   "metadata": {
    "collapsed": false,
    "pycharm": {
     "name": "#%% md\n"
    }
   }
  },
  {
   "cell_type": "code",
   "execution_count": null,
   "outputs": [],
   "source": [],
   "metadata": {
    "collapsed": false,
    "pycharm": {
     "name": "#%%\n"
    }
   }
  },
  {
   "cell_type": "markdown",
   "source": [
    "---\n",
    "\n",
    "### Action Definition\n",
    "\n",
    "#### Operations:\n",
    " 1. add\n",
    " 2. subtract\n",
    " 3. multiply\n",
    " 4. divide\n"
   ],
   "metadata": {
    "collapsed": false,
    "pycharm": {
     "name": "#%% md\n"
    }
   }
  },
  {
   "cell_type": "code",
   "execution_count": null,
   "outputs": [],
   "source": [
    "def add(node: tuple) -> tuple:\n",
    "    return node[0]\n",
    "\n",
    "def breed_state(node: tuple) -> deque:\n",
    "    result = deque()\n",
    "\n",
    "    return result"
   ],
   "metadata": {
    "collapsed": false,
    "pycharm": {
     "name": "#%%\n"
    }
   }
  },
  {
   "cell_type": "markdown",
   "source": [
    "### Goal Test / Evaluation\n",
    "#### Final / Expected state:\n",
    " - result: 24\n",
    " - answer: '5-4+3x6'\n",
    " - problem: []"
   ],
   "metadata": {
    "collapsed": false,
    "pycharm": {
     "name": "#%% md\n"
    }
   }
  },
  {
   "cell_type": "code",
   "execution_count": null,
   "outputs": [],
   "source": [
    "# expected_state = 24, [], ['5', '-4', '+3', 'x6']\n",
    "def assert_state(node: tuple) -> bool:\n",
    "    (result, problem) = node\n",
    "    return result == 24 and not len(problem)"
   ],
   "metadata": {
    "collapsed": false,
    "pycharm": {
     "name": "#%%\n"
    }
   }
  },
  {
   "cell_type": "markdown",
   "source": [
    "### Path Cost\n",
    "\n",
    "#### Node variables\n",
    " - b <-- branching factor\n",
    " - d <-- search depth\n",
    " - m <-- max depth"
   ],
   "metadata": {
    "collapsed": false,
    "pycharm": {
     "name": "#%% md\n"
    }
   }
  },
  {
   "cell_type": "code",
   "execution_count": null,
   "outputs": [],
   "source": [
    "def bfs(input_problem: list):\n",
    "    fringe = deque()\n",
    "    fringe.append(input_problem)\n",
    "\n",
    "    while True:\n",
    "        if len(fringe) == 0: return\n",
    "\n",
    "        node = fringe.popleft()\n",
    "\n",
    "        if assert_state(node): return\n",
    "\n",
    "        if node:  # generate successor\n",
    "            return\n"
   ],
   "metadata": {
    "collapsed": false,
    "pycharm": {
     "name": "#%%\n"
    }
   }
  }
 ],
 "metadata": {
  "kernelspec": {
   "display_name": "Python 3",
   "language": "python",
   "name": "python3"
  },
  "language_info": {
   "codemirror_mode": {
    "name": "ipython",
    "version": 2
   },
   "file_extension": ".py",
   "mimetype": "text/x-python",
   "name": "python",
   "nbconvert_exporter": "python",
   "pygments_lexer": "ipython2",
   "version": "2.7.6"
  }
 },
 "nbformat": 4,
 "nbformat_minor": 0
}